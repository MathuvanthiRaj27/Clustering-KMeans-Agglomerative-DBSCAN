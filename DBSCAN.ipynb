{
 "cells": [
  {
   "cell_type": "code",
   "execution_count": 54,
   "id": "1bafa020",
   "metadata": {},
   "outputs": [],
   "source": [
    "''' Importing the libraries'''\n",
    "import pandas as pd\n",
    "import numpy as np\n",
    "import matplotlib.pyplot as plt\n",
    "import seaborn as sns\n",
    "from sklearn.preprocessing import StandardScaler\n",
    "from sklearn.metrics import silhouette_score\n",
    "from sklearn.cluster import DBSCAN\n",
    "from collections import Counter\n",
    "import pickle"
   ]
  },
  {
   "cell_type": "code",
   "execution_count": 55,
   "id": "7f7fd6b8",
   "metadata": {},
   "outputs": [],
   "source": [
    "''' Reading the csv file '''\n",
    "data = pd.read_csv(\"jewellery.csv\") "
   ]
  },
  {
   "cell_type": "code",
   "execution_count": 56,
   "id": "5222a1cb",
   "metadata": {},
   "outputs": [
    {
     "data": {
      "text/html": [
       "<div>\n",
       "<style scoped>\n",
       "    .dataframe tbody tr th:only-of-type {\n",
       "        vertical-align: middle;\n",
       "    }\n",
       "\n",
       "    .dataframe tbody tr th {\n",
       "        vertical-align: top;\n",
       "    }\n",
       "\n",
       "    .dataframe thead th {\n",
       "        text-align: right;\n",
       "    }\n",
       "</style>\n",
       "<table border=\"1\" class=\"dataframe\">\n",
       "  <thead>\n",
       "    <tr style=\"text-align: right;\">\n",
       "      <th></th>\n",
       "      <th>Age</th>\n",
       "      <th>Income</th>\n",
       "      <th>SpendingScore</th>\n",
       "      <th>Savings</th>\n",
       "    </tr>\n",
       "  </thead>\n",
       "  <tbody>\n",
       "    <tr>\n",
       "      <th>0</th>\n",
       "      <td>58</td>\n",
       "      <td>77769</td>\n",
       "      <td>0.791329</td>\n",
       "      <td>6559.829923</td>\n",
       "    </tr>\n",
       "    <tr>\n",
       "      <th>1</th>\n",
       "      <td>59</td>\n",
       "      <td>81799</td>\n",
       "      <td>0.791082</td>\n",
       "      <td>5417.661426</td>\n",
       "    </tr>\n",
       "    <tr>\n",
       "      <th>2</th>\n",
       "      <td>62</td>\n",
       "      <td>74751</td>\n",
       "      <td>0.702657</td>\n",
       "      <td>9258.992965</td>\n",
       "    </tr>\n",
       "    <tr>\n",
       "      <th>3</th>\n",
       "      <td>59</td>\n",
       "      <td>74373</td>\n",
       "      <td>0.765680</td>\n",
       "      <td>7346.334504</td>\n",
       "    </tr>\n",
       "    <tr>\n",
       "      <th>4</th>\n",
       "      <td>87</td>\n",
       "      <td>17760</td>\n",
       "      <td>0.348778</td>\n",
       "      <td>16869.507130</td>\n",
       "    </tr>\n",
       "  </tbody>\n",
       "</table>\n",
       "</div>"
      ],
      "text/plain": [
       "   Age  Income  SpendingScore       Savings\n",
       "0   58   77769       0.791329   6559.829923\n",
       "1   59   81799       0.791082   5417.661426\n",
       "2   62   74751       0.702657   9258.992965\n",
       "3   59   74373       0.765680   7346.334504\n",
       "4   87   17760       0.348778  16869.507130"
      ]
     },
     "execution_count": 56,
     "metadata": {},
     "output_type": "execute_result"
    }
   ],
   "source": [
    "''' Printing the 1st 5 rows '''\n",
    "data.head()"
   ]
  },
  {
   "cell_type": "code",
   "execution_count": 57,
   "id": "e59a7784",
   "metadata": {},
   "outputs": [
    {
     "data": {
      "text/plain": [
       "Age                int64\n",
       "Income             int64\n",
       "SpendingScore    float64\n",
       "Savings          float64\n",
       "dtype: object"
      ]
     },
     "execution_count": 57,
     "metadata": {},
     "output_type": "execute_result"
    }
   ],
   "source": [
    "''' Printing the datatypes '''\n",
    "data.dtypes"
   ]
  },
  {
   "cell_type": "code",
   "execution_count": 58,
   "id": "5c248f61",
   "metadata": {},
   "outputs": [
    {
     "data": {
      "text/plain": [
       "(505, 4)"
      ]
     },
     "execution_count": 58,
     "metadata": {},
     "output_type": "execute_result"
    }
   ],
   "source": [
    "''' Printing the shape of the dataset'''\n",
    "data.shape"
   ]
  },
  {
   "cell_type": "code",
   "execution_count": 59,
   "id": "6821bb82",
   "metadata": {},
   "outputs": [
    {
     "data": {
      "text/plain": [
       "Age              0\n",
       "Income           0\n",
       "SpendingScore    0\n",
       "Savings          0\n",
       "dtype: int64"
      ]
     },
     "execution_count": 59,
     "metadata": {},
     "output_type": "execute_result"
    }
   ],
   "source": [
    "''' Checking for null values '''\n",
    "data.isnull().sum()\n"
   ]
  },
  {
   "cell_type": "code",
   "execution_count": 60,
   "id": "04931cb6",
   "metadata": {},
   "outputs": [
    {
     "data": {
      "text/html": [
       "<div>\n",
       "<style scoped>\n",
       "    .dataframe tbody tr th:only-of-type {\n",
       "        vertical-align: middle;\n",
       "    }\n",
       "\n",
       "    .dataframe tbody tr th {\n",
       "        vertical-align: top;\n",
       "    }\n",
       "\n",
       "    .dataframe thead th {\n",
       "        text-align: right;\n",
       "    }\n",
       "</style>\n",
       "<table border=\"1\" class=\"dataframe\">\n",
       "  <thead>\n",
       "    <tr style=\"text-align: right;\">\n",
       "      <th></th>\n",
       "      <th>Age</th>\n",
       "      <th>SpendingScore</th>\n",
       "    </tr>\n",
       "  </thead>\n",
       "  <tbody>\n",
       "    <tr>\n",
       "      <th>0</th>\n",
       "      <td>58</td>\n",
       "      <td>0.791329</td>\n",
       "    </tr>\n",
       "    <tr>\n",
       "      <th>1</th>\n",
       "      <td>59</td>\n",
       "      <td>0.791082</td>\n",
       "    </tr>\n",
       "    <tr>\n",
       "      <th>2</th>\n",
       "      <td>62</td>\n",
       "      <td>0.702657</td>\n",
       "    </tr>\n",
       "    <tr>\n",
       "      <th>3</th>\n",
       "      <td>59</td>\n",
       "      <td>0.765680</td>\n",
       "    </tr>\n",
       "    <tr>\n",
       "      <th>4</th>\n",
       "      <td>87</td>\n",
       "      <td>0.348778</td>\n",
       "    </tr>\n",
       "  </tbody>\n",
       "</table>\n",
       "</div>"
      ],
      "text/plain": [
       "   Age  SpendingScore\n",
       "0   58       0.791329\n",
       "1   59       0.791082\n",
       "2   62       0.702657\n",
       "3   59       0.765680\n",
       "4   87       0.348778"
      ]
     },
     "execution_count": 60,
     "metadata": {},
     "output_type": "execute_result"
    }
   ],
   "source": [
    "df= pd.DataFrame(data['Age'])\n",
    "df['SpendingScore']=data['SpendingScore']\n",
    "df.head()"
   ]
  },
  {
   "cell_type": "code",
   "execution_count": 61,
   "id": "a6a77a6f",
   "metadata": {},
   "outputs": [
    {
     "name": "stdout",
     "output_type": "stream",
     "text": [
      "[0 0 0 0 1 2 0 1 1 1 1 2 2 2 0 1 0 1 1 1 2 1 0 1 1 2 2 0 1 0 0 0 1 0 2 0 1\n",
      " 0 2 2 0 1 2 0 0 2 1 2 2 0 1 2 2 1 0 1 2 1 1 1 1 1 1 0 0 0 1 2 2 0 0 2 1 1\n",
      " 2 0 2 0 0 2 0 1 0 1 1 2 2 0 0 0 0 0 2 1 0 2 2 0 0 2 2 2 2 2 2 1 1 2 2 0 1\n",
      " 2 0 2 2 2 0 2 2 1 2 1 1 1 2 1 0 1 0 0 2 0 2 0 2 1 1 2 0 2 1 0 0 2 0 2 0 1\n",
      " 0 1 0 2 1 0 1 1 2 0 1 0 2 1 0 2 1 2 1 0 2 0 1 0 2 0 1 0 0 1 1 1 0 0 2 2 2\n",
      " 1 2 0 0 0 2 1 0 0 0 1 2 2 1 1 1 2 0 2 0 2 0 1 2 0 1 1 1 1 0 1 2 2 2 1 0 0\n",
      " 2 1 2 2 2 0 0 1 0 0 1 0 0 0 2 0 2 2 2 0 0 0 1 0 2 1 2 2 2 1 0 2 1 1 2 2 0\n",
      " 0 1 0 0 1 0 1 2 2 0 2 1 0 1 1 2 0 1 1 0 0 1 2 2 1 2 1 1 2 1 1 1 2 0 2 2 0\n",
      " 2 1 1 2 0 2 1 0 2 2 0 1 2 2 1 1 1 0 1 2 0 0 1 2 1 2 1 2 1 1 2 1 2 0 2 0 0\n",
      " 2 2 1 1 2 2 2 1 2 1 1 0 0 0 1 1 2 2 1 2 1 0 2 2 1 0 1 2 0 1 1 0 1 2 0 1 2\n",
      " 2 0 1 1 1 1 1 2 2 1 0 2 0 1 1 1 0 1 1 0 1 1 2 1 0 2 2 2 0 1 2 0 0 0 1 2 2\n",
      " 2 0 2 0 0 2 2 1 2 2 2 1 0 1 2 1 2 0 0 1 1 2 1 2 0 0 2 0 1 0 2 0 1 0 1 2 2\n",
      " 2 2 2 2 1 1 0 2 0 2 2 1 2 2 2 1 2 2 0 2 1 1 2 0 2 0 0 2 0 0 0 1 2 2 0 0 0\n",
      " 1 2 1 1 1 1 2 1 1 1 0 0 1 1 0 2 1 2 2 2 1 1 1 1]\n"
     ]
    }
   ],
   "source": [
    "'''Implementing DBSCAN'''\n",
    "\n",
    "dbscan = DBSCAN(eps = 3, min_samples = 4)\n",
    "db = dbscan.fit_predict(df)\n",
    "data[\"cluster\"] = db\n",
    "labels = dbscan.labels_\n",
    "print(labels)"
   ]
  },
  {
   "cell_type": "code",
   "execution_count": 62,
   "id": "286192f4",
   "metadata": {},
   "outputs": [
    {
     "name": "stdout",
     "output_type": "stream",
     "text": [
      "3\n"
     ]
    }
   ],
   "source": [
    "''' Finding the clusters '''\n",
    "\n",
    "n_clusters = len(set(labels))\n",
    "print(n_clusters)"
   ]
  },
  {
   "cell_type": "code",
   "execution_count": 63,
   "id": "b9fea08c",
   "metadata": {},
   "outputs": [
    {
     "name": "stdout",
     "output_type": "stream",
     "text": [
      "Counter({2: 176, 1: 172, 0: 157})\n"
     ]
    }
   ],
   "source": [
    "print(Counter(dbscan.labels_))"
   ]
  },
  {
   "cell_type": "code",
   "execution_count": 64,
   "id": "7fb97ef3",
   "metadata": {},
   "outputs": [
    {
     "name": "stdout",
     "output_type": "stream",
     "text": [
      "Silhouette Score: 0.826\n"
     ]
    }
   ],
   "source": [
    "''' Silhoutte score'''\n",
    "\n",
    "db_score = silhouette_score(df, dbscan.labels_)\n",
    "print('Silhouette Score: %.3f' % db_score)"
   ]
  },
  {
   "cell_type": "code",
   "execution_count": 66,
   "id": "fafbdbf0",
   "metadata": {},
   "outputs": [],
   "source": [
    "pickle.dump(dbscan,open(\"dbscan.pkl\",\"wb\"))"
   ]
  },
  {
   "cell_type": "code",
   "execution_count": null,
   "id": "430388a0",
   "metadata": {},
   "outputs": [],
   "source": []
  }
 ],
 "metadata": {
  "kernelspec": {
   "display_name": "Python 3",
   "language": "python",
   "name": "python3"
  },
  "language_info": {
   "codemirror_mode": {
    "name": "ipython",
    "version": 3
   },
   "file_extension": ".py",
   "mimetype": "text/x-python",
   "name": "python",
   "nbconvert_exporter": "python",
   "pygments_lexer": "ipython3",
   "version": "3.8.8"
  }
 },
 "nbformat": 4,
 "nbformat_minor": 5
}
