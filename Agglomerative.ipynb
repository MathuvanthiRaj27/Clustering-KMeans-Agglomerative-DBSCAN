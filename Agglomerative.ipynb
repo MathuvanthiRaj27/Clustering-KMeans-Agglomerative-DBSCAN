{
 "cells": [
  {
   "cell_type": "code",
   "execution_count": 3,
   "id": "23f05961",
   "metadata": {},
   "outputs": [],
   "source": [
    "''' Importing the libraries'''\n",
    "import pandas as pd\n",
    "import numpy as np\n",
    "import matplotlib.pyplot as plt\n",
    "import seaborn as sns\n",
    "from sklearn.preprocessing import StandardScaler\n",
    "from sklearn.metrics import silhouette_score\n",
    "from sklearn.cluster import AgglomerativeClustering\n",
    "from collections import Counter\n",
    "import pickle"
   ]
  },
  {
   "cell_type": "code",
   "execution_count": 4,
   "id": "3af37150",
   "metadata": {},
   "outputs": [],
   "source": [
    "''' Reading the csv file '''\n",
    "data = pd.read_csv(\"jewellery.csv\") "
   ]
  },
  {
   "cell_type": "code",
   "execution_count": 5,
   "id": "34a212d8",
   "metadata": {},
   "outputs": [
    {
     "data": {
      "text/html": [
       "<div>\n",
       "<style scoped>\n",
       "    .dataframe tbody tr th:only-of-type {\n",
       "        vertical-align: middle;\n",
       "    }\n",
       "\n",
       "    .dataframe tbody tr th {\n",
       "        vertical-align: top;\n",
       "    }\n",
       "\n",
       "    .dataframe thead th {\n",
       "        text-align: right;\n",
       "    }\n",
       "</style>\n",
       "<table border=\"1\" class=\"dataframe\">\n",
       "  <thead>\n",
       "    <tr style=\"text-align: right;\">\n",
       "      <th></th>\n",
       "      <th>Age</th>\n",
       "      <th>Income</th>\n",
       "      <th>SpendingScore</th>\n",
       "      <th>Savings</th>\n",
       "    </tr>\n",
       "  </thead>\n",
       "  <tbody>\n",
       "    <tr>\n",
       "      <th>0</th>\n",
       "      <td>58</td>\n",
       "      <td>77769</td>\n",
       "      <td>0.791329</td>\n",
       "      <td>6559.829923</td>\n",
       "    </tr>\n",
       "    <tr>\n",
       "      <th>1</th>\n",
       "      <td>59</td>\n",
       "      <td>81799</td>\n",
       "      <td>0.791082</td>\n",
       "      <td>5417.661426</td>\n",
       "    </tr>\n",
       "    <tr>\n",
       "      <th>2</th>\n",
       "      <td>62</td>\n",
       "      <td>74751</td>\n",
       "      <td>0.702657</td>\n",
       "      <td>9258.992965</td>\n",
       "    </tr>\n",
       "    <tr>\n",
       "      <th>3</th>\n",
       "      <td>59</td>\n",
       "      <td>74373</td>\n",
       "      <td>0.765680</td>\n",
       "      <td>7346.334504</td>\n",
       "    </tr>\n",
       "    <tr>\n",
       "      <th>4</th>\n",
       "      <td>87</td>\n",
       "      <td>17760</td>\n",
       "      <td>0.348778</td>\n",
       "      <td>16869.507130</td>\n",
       "    </tr>\n",
       "  </tbody>\n",
       "</table>\n",
       "</div>"
      ],
      "text/plain": [
       "   Age  Income  SpendingScore       Savings\n",
       "0   58   77769       0.791329   6559.829923\n",
       "1   59   81799       0.791082   5417.661426\n",
       "2   62   74751       0.702657   9258.992965\n",
       "3   59   74373       0.765680   7346.334504\n",
       "4   87   17760       0.348778  16869.507130"
      ]
     },
     "execution_count": 5,
     "metadata": {},
     "output_type": "execute_result"
    }
   ],
   "source": [
    "''' Printing the 1st 5 rows '''\n",
    "data.head()"
   ]
  },
  {
   "cell_type": "code",
   "execution_count": 6,
   "id": "db087e6a",
   "metadata": {},
   "outputs": [
    {
     "data": {
      "text/plain": [
       "Age                int64\n",
       "Income             int64\n",
       "SpendingScore    float64\n",
       "Savings          float64\n",
       "dtype: object"
      ]
     },
     "execution_count": 6,
     "metadata": {},
     "output_type": "execute_result"
    }
   ],
   "source": [
    "''' Printing the datatypes '''\n",
    "data.dtypes"
   ]
  },
  {
   "cell_type": "code",
   "execution_count": 7,
   "id": "977e8a81",
   "metadata": {},
   "outputs": [
    {
     "data": {
      "text/plain": [
       "(505, 4)"
      ]
     },
     "execution_count": 7,
     "metadata": {},
     "output_type": "execute_result"
    }
   ],
   "source": [
    "''' Printing the shape of the dataset'''\n",
    "data.shape"
   ]
  },
  {
   "cell_type": "code",
   "execution_count": 9,
   "id": "0b8bbc4b",
   "metadata": {},
   "outputs": [
    {
     "data": {
      "text/plain": [
       "Age              0\n",
       "Income           0\n",
       "SpendingScore    0\n",
       "Savings          0\n",
       "dtype: int64"
      ]
     },
     "execution_count": 9,
     "metadata": {},
     "output_type": "execute_result"
    }
   ],
   "source": [
    "''' Checking for null values '''\n",
    "data.isnull().sum()\n"
   ]
  },
  {
   "cell_type": "code",
   "execution_count": 10,
   "id": "28d05366",
   "metadata": {},
   "outputs": [
    {
     "data": {
      "text/html": [
       "<div>\n",
       "<style scoped>\n",
       "    .dataframe tbody tr th:only-of-type {\n",
       "        vertical-align: middle;\n",
       "    }\n",
       "\n",
       "    .dataframe tbody tr th {\n",
       "        vertical-align: top;\n",
       "    }\n",
       "\n",
       "    .dataframe thead th {\n",
       "        text-align: right;\n",
       "    }\n",
       "</style>\n",
       "<table border=\"1\" class=\"dataframe\">\n",
       "  <thead>\n",
       "    <tr style=\"text-align: right;\">\n",
       "      <th></th>\n",
       "      <th>Age</th>\n",
       "      <th>SpendingScore</th>\n",
       "    </tr>\n",
       "  </thead>\n",
       "  <tbody>\n",
       "    <tr>\n",
       "      <th>0</th>\n",
       "      <td>58</td>\n",
       "      <td>0.791329</td>\n",
       "    </tr>\n",
       "    <tr>\n",
       "      <th>1</th>\n",
       "      <td>59</td>\n",
       "      <td>0.791082</td>\n",
       "    </tr>\n",
       "    <tr>\n",
       "      <th>2</th>\n",
       "      <td>62</td>\n",
       "      <td>0.702657</td>\n",
       "    </tr>\n",
       "    <tr>\n",
       "      <th>3</th>\n",
       "      <td>59</td>\n",
       "      <td>0.765680</td>\n",
       "    </tr>\n",
       "    <tr>\n",
       "      <th>4</th>\n",
       "      <td>87</td>\n",
       "      <td>0.348778</td>\n",
       "    </tr>\n",
       "  </tbody>\n",
       "</table>\n",
       "</div>"
      ],
      "text/plain": [
       "   Age  SpendingScore\n",
       "0   58       0.791329\n",
       "1   59       0.791082\n",
       "2   62       0.702657\n",
       "3   59       0.765680\n",
       "4   87       0.348778"
      ]
     },
     "execution_count": 10,
     "metadata": {},
     "output_type": "execute_result"
    }
   ],
   "source": [
    "df= pd.DataFrame(data['Age'])\n",
    "df['SpendingScore']=data['SpendingScore']\n",
    "df.head()"
   ]
  },
  {
   "cell_type": "code",
   "execution_count": 13,
   "id": "4bdbd5d1",
   "metadata": {},
   "outputs": [
    {
     "name": "stdout",
     "output_type": "stream",
     "text": [
      "[2 2 2 2 1 0 2 1 1 1 1 0 0 0 2 1 2 1 1 1 0 1 2 1 1 0 0 2 1 2 2 2 1 2 0 2 1\n",
      " 2 0 0 2 1 0 2 2 0 1 0 0 2 1 0 0 1 2 1 0 1 1 1 1 1 1 2 2 2 1 0 0 2 2 0 1 1\n",
      " 0 2 0 2 2 0 2 1 2 1 1 0 0 2 2 2 2 2 0 1 2 0 0 2 2 0 0 0 0 0 0 1 1 0 0 2 1\n",
      " 0 2 0 0 0 2 0 0 1 0 1 1 1 0 1 2 1 2 2 0 2 0 2 0 1 1 0 2 0 1 2 2 0 2 0 2 1\n",
      " 2 1 2 0 1 2 1 1 0 2 1 2 0 1 2 0 1 0 1 2 0 2 1 2 0 2 1 2 2 1 1 1 2 2 0 0 0\n",
      " 1 0 2 2 2 0 1 2 2 2 1 0 0 1 1 1 0 2 0 2 0 2 1 0 2 1 1 1 1 2 1 0 0 0 1 2 2\n",
      " 0 1 0 0 0 2 2 1 2 2 1 2 2 2 0 2 0 0 0 2 2 2 1 2 0 1 0 0 0 1 2 0 1 1 0 0 2\n",
      " 2 1 2 2 1 2 1 0 0 2 0 1 2 1 1 0 2 1 1 2 2 1 0 0 1 0 1 1 0 1 1 1 0 2 0 0 2\n",
      " 0 1 1 0 2 0 1 2 0 0 2 1 0 0 1 1 1 2 1 0 2 2 1 0 1 0 1 0 1 1 0 1 0 2 0 2 2\n",
      " 0 0 1 1 0 0 0 1 0 1 1 2 2 2 1 1 0 0 1 0 1 2 0 0 1 2 1 0 2 1 1 2 1 0 2 1 0\n",
      " 0 2 1 1 1 1 1 0 0 1 2 0 2 1 1 1 2 1 1 2 1 1 0 1 2 0 0 0 2 1 0 2 2 2 1 0 0\n",
      " 0 2 0 2 2 0 0 1 0 0 0 1 2 1 0 1 0 2 2 1 1 0 1 0 2 2 0 2 1 2 0 2 1 2 1 0 0\n",
      " 0 0 0 0 1 1 2 0 2 0 0 1 0 0 0 1 0 0 2 0 1 1 0 2 0 2 2 0 2 2 2 1 0 0 2 2 2\n",
      " 1 0 1 1 1 1 0 1 1 1 2 2 1 1 2 0 1 0 0 0 1 1 1 1]\n"
     ]
    }
   ],
   "source": [
    "'''Agglomerative Clustering '''\n",
    "\n",
    "ac = AgglomerativeClustering(n_clusters=3, affinity='euclidean', linkage='complete')\n",
    "pre = ac.fit_predict(df)\n",
    "print(pre)"
   ]
  },
  {
   "cell_type": "code",
   "execution_count": 14,
   "id": "22f685fd",
   "metadata": {},
   "outputs": [
    {
     "name": "stdout",
     "output_type": "stream",
     "text": [
      "Silhouette Score: 0.826\n"
     ]
    }
   ],
   "source": [
    "''' Silhoutte score'''\n",
    "\n",
    "ac_score = silhouette_score(df, ac.labels_)\n",
    "print('Silhouette Score: %.3f' % ac_score)"
   ]
  },
  {
   "cell_type": "code",
   "execution_count": 15,
   "id": "c9768426",
   "metadata": {},
   "outputs": [
    {
     "name": "stdout",
     "output_type": "stream",
     "text": [
      "Counter({0: 176, 1: 172, 2: 157})\n"
     ]
    }
   ],
   "source": [
    "'''Printing the count of each clusters'''\n",
    "\n",
    "print(Counter(ac.labels_))"
   ]
  },
  {
   "cell_type": "code",
   "execution_count": 17,
   "id": "5b8cbdf4",
   "metadata": {},
   "outputs": [],
   "source": [
    "pickle.dump(ac,open(\"agglomerative.pkl\",\"wb\"))"
   ]
  }
 ],
 "metadata": {
  "kernelspec": {
   "display_name": "Python 3",
   "language": "python",
   "name": "python3"
  },
  "language_info": {
   "codemirror_mode": {
    "name": "ipython",
    "version": 3
   },
   "file_extension": ".py",
   "mimetype": "text/x-python",
   "name": "python",
   "nbconvert_exporter": "python",
   "pygments_lexer": "ipython3",
   "version": "3.8.8"
  }
 },
 "nbformat": 4,
 "nbformat_minor": 5
}
