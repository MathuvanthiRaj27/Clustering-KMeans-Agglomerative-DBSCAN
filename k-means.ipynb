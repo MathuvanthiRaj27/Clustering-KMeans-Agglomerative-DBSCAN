{
 "cells": [
  {
   "cell_type": "code",
   "execution_count": 1,
   "id": "161fa19b",
   "metadata": {},
   "outputs": [],
   "source": [
    "''' Importing the libraries'''\n",
    "import pandas as pd\n",
    "import numpy as np\n",
    "import matplotlib.pyplot as plt\n",
    "import seaborn as sns\n",
    "from sklearn.preprocessing import StandardScaler\n",
    "from sklearn.metrics import silhouette_score\n",
    "from sklearn.cluster import KMeans\n",
    "import pickle"
   ]
  },
  {
   "cell_type": "code",
   "execution_count": 2,
   "id": "47b3bb48",
   "metadata": {},
   "outputs": [],
   "source": [
    "''' Reading the csv file '''\n",
    "data = pd.read_csv(\"jewellery.csv\") "
   ]
  },
  {
   "cell_type": "code",
   "execution_count": 3,
   "id": "69a9d93a",
   "metadata": {},
   "outputs": [
    {
     "data": {
      "text/html": [
       "<div>\n",
       "<style scoped>\n",
       "    .dataframe tbody tr th:only-of-type {\n",
       "        vertical-align: middle;\n",
       "    }\n",
       "\n",
       "    .dataframe tbody tr th {\n",
       "        vertical-align: top;\n",
       "    }\n",
       "\n",
       "    .dataframe thead th {\n",
       "        text-align: right;\n",
       "    }\n",
       "</style>\n",
       "<table border=\"1\" class=\"dataframe\">\n",
       "  <thead>\n",
       "    <tr style=\"text-align: right;\">\n",
       "      <th></th>\n",
       "      <th>Age</th>\n",
       "      <th>Income</th>\n",
       "      <th>SpendingScore</th>\n",
       "      <th>Savings</th>\n",
       "    </tr>\n",
       "  </thead>\n",
       "  <tbody>\n",
       "    <tr>\n",
       "      <th>0</th>\n",
       "      <td>58</td>\n",
       "      <td>77769</td>\n",
       "      <td>0.791329</td>\n",
       "      <td>6559.829923</td>\n",
       "    </tr>\n",
       "    <tr>\n",
       "      <th>1</th>\n",
       "      <td>59</td>\n",
       "      <td>81799</td>\n",
       "      <td>0.791082</td>\n",
       "      <td>5417.661426</td>\n",
       "    </tr>\n",
       "    <tr>\n",
       "      <th>2</th>\n",
       "      <td>62</td>\n",
       "      <td>74751</td>\n",
       "      <td>0.702657</td>\n",
       "      <td>9258.992965</td>\n",
       "    </tr>\n",
       "    <tr>\n",
       "      <th>3</th>\n",
       "      <td>59</td>\n",
       "      <td>74373</td>\n",
       "      <td>0.765680</td>\n",
       "      <td>7346.334504</td>\n",
       "    </tr>\n",
       "    <tr>\n",
       "      <th>4</th>\n",
       "      <td>87</td>\n",
       "      <td>17760</td>\n",
       "      <td>0.348778</td>\n",
       "      <td>16869.507130</td>\n",
       "    </tr>\n",
       "  </tbody>\n",
       "</table>\n",
       "</div>"
      ],
      "text/plain": [
       "   Age  Income  SpendingScore       Savings\n",
       "0   58   77769       0.791329   6559.829923\n",
       "1   59   81799       0.791082   5417.661426\n",
       "2   62   74751       0.702657   9258.992965\n",
       "3   59   74373       0.765680   7346.334504\n",
       "4   87   17760       0.348778  16869.507130"
      ]
     },
     "execution_count": 3,
     "metadata": {},
     "output_type": "execute_result"
    }
   ],
   "source": [
    "''' Printing the 1st 5 rows '''\n",
    "data.head()"
   ]
  },
  {
   "cell_type": "code",
   "execution_count": 4,
   "id": "64cd3d62",
   "metadata": {},
   "outputs": [
    {
     "data": {
      "text/plain": [
       "Age                int64\n",
       "Income             int64\n",
       "SpendingScore    float64\n",
       "Savings          float64\n",
       "dtype: object"
      ]
     },
     "execution_count": 4,
     "metadata": {},
     "output_type": "execute_result"
    }
   ],
   "source": [
    "''' Printing the datatypes '''\n",
    "data.dtypes"
   ]
  },
  {
   "cell_type": "code",
   "execution_count": 5,
   "id": "cc0231a6",
   "metadata": {},
   "outputs": [
    {
     "data": {
      "text/plain": [
       "(505, 4)"
      ]
     },
     "execution_count": 5,
     "metadata": {},
     "output_type": "execute_result"
    }
   ],
   "source": [
    "''' Printing the shape of the dataset'''\n",
    "data.shape"
   ]
  },
  {
   "cell_type": "code",
   "execution_count": 7,
   "id": "0443a280",
   "metadata": {},
   "outputs": [
    {
     "data": {
      "text/plain": [
       "Age              0\n",
       "Income           0\n",
       "SpendingScore    0\n",
       "Savings          0\n",
       "dtype: int64"
      ]
     },
     "execution_count": 7,
     "metadata": {},
     "output_type": "execute_result"
    }
   ],
   "source": [
    "''' Checking for null values '''\n",
    "data.isnull().sum()\n"
   ]
  },
  {
   "cell_type": "code",
   "execution_count": 9,
   "id": "a608a773",
   "metadata": {},
   "outputs": [
    {
     "data": {
      "text/html": [
       "<div>\n",
       "<style scoped>\n",
       "    .dataframe tbody tr th:only-of-type {\n",
       "        vertical-align: middle;\n",
       "    }\n",
       "\n",
       "    .dataframe tbody tr th {\n",
       "        vertical-align: top;\n",
       "    }\n",
       "\n",
       "    .dataframe thead th {\n",
       "        text-align: right;\n",
       "    }\n",
       "</style>\n",
       "<table border=\"1\" class=\"dataframe\">\n",
       "  <thead>\n",
       "    <tr style=\"text-align: right;\">\n",
       "      <th></th>\n",
       "      <th>Age</th>\n",
       "      <th>SpendingScore</th>\n",
       "    </tr>\n",
       "  </thead>\n",
       "  <tbody>\n",
       "    <tr>\n",
       "      <th>0</th>\n",
       "      <td>58</td>\n",
       "      <td>0.791329</td>\n",
       "    </tr>\n",
       "    <tr>\n",
       "      <th>1</th>\n",
       "      <td>59</td>\n",
       "      <td>0.791082</td>\n",
       "    </tr>\n",
       "    <tr>\n",
       "      <th>2</th>\n",
       "      <td>62</td>\n",
       "      <td>0.702657</td>\n",
       "    </tr>\n",
       "    <tr>\n",
       "      <th>3</th>\n",
       "      <td>59</td>\n",
       "      <td>0.765680</td>\n",
       "    </tr>\n",
       "    <tr>\n",
       "      <th>4</th>\n",
       "      <td>87</td>\n",
       "      <td>0.348778</td>\n",
       "    </tr>\n",
       "  </tbody>\n",
       "</table>\n",
       "</div>"
      ],
      "text/plain": [
       "   Age  SpendingScore\n",
       "0   58       0.791329\n",
       "1   59       0.791082\n",
       "2   62       0.702657\n",
       "3   59       0.765680\n",
       "4   87       0.348778"
      ]
     },
     "execution_count": 9,
     "metadata": {},
     "output_type": "execute_result"
    }
   ],
   "source": [
    "df= pd.DataFrame(data['Age'])\n",
    "df['SpendingScore']=data['SpendingScore']\n",
    "df.head()"
   ]
  },
  {
   "cell_type": "code",
   "execution_count": 18,
   "id": "b469e34a",
   "metadata": {},
   "outputs": [
    {
     "name": "stderr",
     "output_type": "stream",
     "text": [
      "C:\\ProgramData\\Anaconda3\\lib\\site-packages\\sklearn\\cluster\\_kmeans.py:881: UserWarning: KMeans is known to have a memory leak on Windows with MKL, when there are less chunks than available threads. You can avoid it by setting the environment variable OMP_NUM_THREADS=2.\n",
      "  warnings.warn(\n"
     ]
    },
    {
     "name": "stdout",
     "output_type": "stream",
     "text": [
      "sse 1: 294068.061608074\n",
      "sse 2: 71416.0608191777\n",
      "sse 3: 9081.657723926599\n",
      "sse 4: 5854.062913586266\n",
      "sse 5: 4378.652689331721\n",
      "sse 6: 3237.1748540393664\n",
      "sse 7: 2173.6368801434273\n",
      "sse 8: 1862.7799722758687\n",
      "sse 9: 1547.7026518846399\n"
     ]
    },
    {
     "data": {
      "text/plain": [
       "[<matplotlib.lines.Line2D at 0x2776d10ddc0>]"
      ]
     },
     "execution_count": 18,
     "metadata": {},
     "output_type": "execute_result"
    },
    {
     "data": {
      "image/png": "[encoded data removed]",
      "text/plain": [
       "<Figure size 720x360 with 1 Axes>"
      ]
     },
     "metadata": {
      "needs_background": "light"
     },
     "output_type": "display_data"
    }
   ],
   "source": [
    "''' k-means elbow curve'''\n",
    "    \n",
    "sse=[]\n",
    "no_of_cluster= []\n",
    "\n",
    "for i in range(1,10): \n",
    "    km = KMeans(n_clusters=i)\n",
    "    cluster_predicted = km.fit(df)\n",
    "    no_of_cluster.append(i) \n",
    "    sse.append(cluster_predicted.inertia_)\n",
    "    print(f'sse {i}: {cluster_predicted.inertia_}')\n",
    "plt.figure(figsize=(10,5))\n",
    "plt.plot(no_of_cluster, sse)"
   ]
  },
  {
   "cell_type": "code",
   "execution_count": 19,
   "id": "267bea0c",
   "metadata": {},
   "outputs": [
    {
     "name": "stdout",
     "output_type": "stream",
     "text": [
      "KMeans(n_clusters=3)\n"
     ]
    }
   ],
   "source": [
    "'''Initializing K-means cluster as 3'''\n",
    "km = KMeans(n_clusters=3)\n",
    "print(km)"
   ]
  },
  {
   "cell_type": "code",
   "execution_count": 20,
   "id": "1c57c84d",
   "metadata": {},
   "outputs": [
    {
     "name": "stdout",
     "output_type": "stream",
     "text": [
      "[2 2 2 2 1 0 2 1 1 1 1 0 0 0 2 1 2 1 1 1 0 1 2 1 1 0 0 2 1 2 2 2 1 2 0 2 1\n",
      " 2 0 0 2 1 0 2 2 0 1 0 0 2 1 0 0 1 2 1 0 1 1 1 1 1 1 2 2 2 1 0 0 2 2 0 1 1\n",
      " 0 2 0 2 2 0 2 1 2 1 1 0 0 2 2 2 2 2 0 1 2 0 0 2 2 0 0 0 0 0 0 1 1 0 0 2 1\n",
      " 0 2 0 0 0 2 0 0 1 0 1 1 1 0 1 2 1 2 2 0 2 0 2 0 1 1 0 2 0 1 2 2 0 2 0 2 1\n",
      " 2 1 2 0 1 2 1 1 0 2 1 2 0 1 2 0 1 0 1 2 0 2 1 2 0 2 1 2 2 1 1 1 2 2 0 0 0\n",
      " 1 0 2 2 2 0 1 2 2 2 1 0 0 1 1 1 0 2 0 2 0 2 1 0 2 1 1 1 1 2 1 0 0 0 1 2 2\n",
      " 0 1 0 0 0 2 2 1 2 2 1 2 2 2 0 2 0 0 0 2 2 2 1 2 0 1 0 0 0 1 2 0 1 1 0 0 2\n",
      " 2 1 2 2 1 2 1 0 0 2 0 1 2 1 1 0 2 1 1 2 2 1 0 0 1 0 1 1 0 1 1 1 0 2 0 0 2\n",
      " 0 1 1 0 2 0 1 2 0 0 2 1 0 0 1 1 1 2 1 0 2 2 1 0 1 0 1 0 1 1 0 1 0 2 0 2 2\n",
      " 0 0 1 1 0 0 0 1 0 1 1 2 2 2 1 1 0 0 1 0 1 2 0 0 1 2 1 0 2 1 1 2 1 0 2 1 0\n",
      " 0 2 1 1 1 1 1 0 0 1 2 0 2 1 1 1 2 1 1 2 1 1 0 1 2 0 0 0 2 1 0 2 2 2 1 0 0\n",
      " 0 2 0 2 2 0 0 1 0 0 0 1 2 1 0 1 0 2 2 1 1 0 1 0 2 2 0 2 1 2 0 2 1 2 1 0 0\n",
      " 0 0 0 0 1 1 2 0 2 0 0 1 0 0 0 1 0 0 2 0 1 1 0 2 0 2 2 0 2 2 2 1 0 0 2 2 2\n",
      " 1 0 1 1 1 1 0 1 1 1 2 2 1 1 2 0 1 0 0 0 1 1 1 1]\n"
     ]
    }
   ],
   "source": [
    "''' Fitting and predicting the values'''\n",
    "predict = km.fit_predict(df)\n",
    "print(predict)"
   ]
  },
  {
   "cell_type": "code",
   "execution_count": 21,
   "id": "a2a546c3",
   "metadata": {},
   "outputs": [
    {
     "name": "stdout",
     "output_type": "stream",
     "text": [
      "Silhouette Score: 0.827\n"
     ]
    }
   ],
   "source": [
    "''' Finding the silhouette score'''\n",
    "\n",
    "score = silhouette_score(df, km.labels_, metric='euclidean')\n",
    "print('Silhouette Score: %.3f' % score)"
   ]
  },
  {
   "cell_type": "code",
   "execution_count": 22,
   "id": "848bf01f",
   "metadata": {},
   "outputs": [
    {
     "name": "stdout",
     "output_type": "stream",
     "text": [
      "[[ 3.03352273e+01  4.76677695e-01  2.00000000e+00]\n",
      " [ 8.75174419e+01  2.90948373e-01  1.00000000e+00]\n",
      " [ 5.99554140e+01  7.71518368e-01 -2.22044605e-16]]\n"
     ]
    }
   ],
   "source": [
    "'''Printing the centroids of each column'''\n",
    "\n",
    "center = km.cluster_centers_\n",
    "print(center)"
   ]
  },
  {
   "cell_type": "code",
   "execution_count": 23,
   "id": "1766a04b",
   "metadata": {},
   "outputs": [
    {
     "data": {
      "text/plain": [
       "<matplotlib.collections.PathCollection at 0x2776bf9ea30>"
      ]
     },
     "execution_count": 23,
     "metadata": {},
     "output_type": "execute_result"
    },
    {
     "data": {
      "image/png": "[encoded data removed]",
      "text/plain": [
       "<Figure size 432x288 with 1 Axes>"
      ]
     },
     "metadata": {
      "needs_background": "light"
     },
     "output_type": "display_data"
    }
   ],
   "source": [
    "'''Visualizing the age and income with its respective clusters'''\n",
    "df['cluster'] = predict\n",
    "df1 = df[df.cluster==0]\n",
    "df2 = df[df.cluster==1]\n",
    "df3 = df[df.cluster==2]\n",
    "plt.scatter(df1.Age, df1.SpendingScore, color='black')\n",
    "plt.scatter(df2.Age, df2.SpendingScore, color='red')\n",
    "plt.scatter(df3.Age, df3.SpendingScore, color='green')\n",
    "plt.scatter(km.cluster_centers_[:,0], km.cluster_centers_[:,1], color='yellow', marker='*', s=800)"
   ]
  },
  {
   "cell_type": "code",
   "execution_count": 24,
   "id": "f2056302",
   "metadata": {},
   "outputs": [],
   "source": [
    "pickle.dump(km,open(\"kmeans.pkl\",\"wb\"))"
   ]
  },
  {
   "cell_type": "code",
   "execution_count": null,
   "id": "42111bf7",
   "metadata": {},
   "outputs": [],
   "source": []
  }
 ],
 "metadata": {
  "kernelspec": {
   "display_name": "Python 3",
   "language": "python",
   "name": "python3"
  },
  "language_info": {
   "codemirror_mode": {
    "name": "ipython",
    "version": 3
   },
   "file_extension": ".py",
   "mimetype": "text/x-python",
   "name": "python",
   "nbconvert_exporter": "python",
   "pygments_lexer": "ipython3",
   "version": "3.8.8"
  }
 },
 "nbformat": 4,
 "nbformat_minor": 5
}
